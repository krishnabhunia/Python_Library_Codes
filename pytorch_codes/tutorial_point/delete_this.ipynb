{
 "cells": [
  {
   "cell_type": "code",
   "execution_count": 14,
   "metadata": {},
   "outputs": [
    {
     "name": "stdout",
     "output_type": "stream",
     "text": [
      "Requirement already satisfied: docx in /Library/Frameworks/Python.framework/Versions/3.12/lib/python3.12/site-packages (0.2.4)\n",
      "Requirement already satisfied: lxml in /Library/Frameworks/Python.framework/Versions/3.12/lib/python3.12/site-packages (from docx) (5.3.1)\n",
      "Requirement already satisfied: Pillow>=2.0 in /Library/Frameworks/Python.framework/Versions/3.12/lib/python3.12/site-packages (from docx) (11.2.0)\n",
      "Note: you may need to restart the kernel to use updated packages.\n",
      "\u001b[31mERROR: Could not find a version that satisfies the requirement py-docx (from versions: none)\u001b[0m\u001b[31m\n",
      "\u001b[0m\u001b[31mERROR: No matching distribution found for py-docx\u001b[0m\u001b[31m\n",
      "\u001b[0mNote: you may need to restart the kernel to use updated packages.\n",
      "Collecting python-docx\n",
      "  Using cached python_docx-1.1.2-py3-none-any.whl.metadata (2.0 kB)\n",
      "Requirement already satisfied: lxml>=3.1.0 in /Library/Frameworks/Python.framework/Versions/3.12/lib/python3.12/site-packages (from python-docx) (5.3.1)\n",
      "Requirement already satisfied: typing-extensions>=4.9.0 in /Library/Frameworks/Python.framework/Versions/3.12/lib/python3.12/site-packages (from python-docx) (4.13.0)\n",
      "Using cached python_docx-1.1.2-py3-none-any.whl (244 kB)\n",
      "Installing collected packages: python-docx\n",
      "Successfully installed python-docx-1.1.2\n",
      "Note: you may need to restart the kernel to use updated packages.\n",
      "\u001b[31mERROR: Could not find a version that satisfies the requirement python-docx-template (from versions: none)\u001b[0m\u001b[31m\n",
      "\u001b[0m\u001b[31mERROR: No matching distribution found for python-docx-template\u001b[0m\u001b[31m\n",
      "\u001b[0mNote: you may need to restart the kernel to use updated packages.\n",
      "\u001b[31mERROR: Could not find a version that satisfies the requirement exceptions (from versions: none)\u001b[0m\u001b[31m\n",
      "\u001b[0m\u001b[31mERROR: No matching distribution found for exceptions\u001b[0m\u001b[31m\n",
      "\u001b[0mNote: you may need to restart the kernel to use updated packages.\n"
     ]
    }
   ],
   "source": [
    "%pip install docx\n",
    "%pip install py-docx\n",
    "%pip install python-docx\n",
    "%pip install python-docx-template\n",
    "%pip install exceptions"
   ]
  },
  {
   "cell_type": "code",
   "execution_count": 21,
   "metadata": {},
   "outputs": [
    {
     "name": "stdout",
     "output_type": "stream",
     "text": [
      "[]\n"
     ]
    }
   ],
   "source": [
    "from docx import Document\n",
    "\n",
    "def extract_headers(doc_path):\n",
    "    doc = Document(doc_path)\n",
    "    headers = []\n",
    "    \n",
    "    for section in doc.sections:\n",
    "        header = section.header\n",
    "        if header and header.paragraphs:\n",
    "            headers.extend([p.text for p in header.paragraphs if p.text.strip()])\n",
    "\n",
    "    return headers\n",
    "\n",
    "# Example usage\n",
    "doc_path = \"1 LTC RINC Letter.docx\"  # Replace with your .docx file path\n",
    "headers = extract_headers(doc_path)\n",
    "print(headers)"
   ]
  },
  {
   "cell_type": "code",
   "execution_count": null,
   "metadata": {},
   "outputs": [
    {
     "name": "stdout",
     "output_type": "stream",
     "text": [
      "Replacing 'FooterFormNumber' with 'Bhunia' in paragraph: FooterFormNumber\t1\n",
      "Replacing 'ReturnAddressHeader' with 'krishna' in paragraph: ReturnAddressHeader\n",
      "Replacing 'FooterFormNumber' with 'Bhunia' in paragraph: FooterFormNumber\t1\n",
      "Updated document saved as: Updated_LTC_RINC_Letter.docx\n"
     ]
    }
   ],
   "source": [
    "from docx import Document\n",
    "import json\n",
    "\n",
    "# Load JSON data (Modify the JSON file path accordingly)\n",
    "json_file = \"data.json\"\n",
    "with open(json_file, \"r\", encoding=\"utf-8\") as file:\n",
    "    replacements = json.load(file)\n",
    "\n",
    "# Load the Word document\n",
    "doc_path = \"1 LTC RINC Letter.docx\"\n",
    "doc = Document(doc_path)\n",
    "\n",
    "# Function to replace text in a given object (paragraphs, headers, footers, tables)\n",
    "def replace_text(element):\n",
    "    for para in element.paragraphs:\n",
    "        for key, value in replacements.items():\n",
    "            if key in para.text:\n",
    "                print(f\"Replacing '{key}' with '{value}' in paragraph: {para.text}\")\n",
    "                para.text = para.text.replace(key, value)\n",
    "\n",
    "# Replace text in body paragraphs\n",
    "replace_text(doc)\n",
    "\n",
    "# Replace text in tables\n",
    "for table in doc.tables:\n",
    "    for row in table.rows:\n",
    "        for cell in row.cells:\n",
    "            replace_text(cell)\n",
    "\n",
    "# Replace text in headers & footers\n",
    "for section in doc.sections:\n",
    "    replace_text(section.header)\n",
    "    replace_text(section.footer)\n",
    "    replace_text(section.first_page_header)\n",
    "    replace_text(section.first_page_footer)\n",
    "\n",
    "\n",
    "# Save the modified document\n",
    "output_path = \"Updated_LTC_RINC_Letter.docx\"\n",
    "doc.save(output_path)\n",
    "\n",
    "print(f\"Updated document saved as: {output_path}\")\n"
   ]
  },
  {
   "cell_type": "code",
   "execution_count": null,
   "metadata": {},
   "outputs": [],
   "source": []
  }
 ],
 "metadata": {
  "kernelspec": {
   "display_name": "Python 3",
   "language": "python",
   "name": "python3"
  },
  "language_info": {
   "codemirror_mode": {
    "name": "ipython",
    "version": 3
   },
   "file_extension": ".py",
   "mimetype": "text/x-python",
   "name": "python",
   "nbconvert_exporter": "python",
   "pygments_lexer": "ipython3",
   "version": "3.12.4"
  }
 },
 "nbformat": 4,
 "nbformat_minor": 2
}

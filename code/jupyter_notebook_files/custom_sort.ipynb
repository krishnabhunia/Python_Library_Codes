{
 "cells": [
  {
   "cell_type": "code",
   "execution_count": 18,
   "metadata": {},
   "outputs": [],
   "source": [
    "inp = [\"Sam\", [10.987, [2.0, [\"Hi\", 39]], \"Hello12345\", 27, 63],\n",
    "       [[[56, 10.345678, [\"He!!0\"]]]]]"
   ]
  },
  {
   "cell_type": "code",
   "execution_count": 19,
   "metadata": {},
   "outputs": [
    {
     "name": "stdout",
     "output_type": "stream",
     "text": [
      "['Sam', 10.987, 2.0, 'Hi', 39, 'Hello12345', 27, 63, 56, 10.345678, 'He!!0']\n"
     ]
    }
   ],
   "source": [
    "res = []\n",
    "def flat(inp):\n",
    "    for i in inp:\n",
    "        if type(i) is list:\n",
    "            flat(i)\n",
    "        else:\n",
    "            res.append(i)\n",
    "\n",
    "flat(inp)\n",
    "print(res)"
   ]
  },
  {
   "cell_type": "code",
   "execution_count": 20,
   "metadata": {},
   "outputs": [
    {
     "name": "stdout",
     "output_type": "stream",
     "text": [
      "['He!!0', 'Hello12345', 'Hi', 'Sam', 63, 56, 39, 27, 2.0, 10.345678, 10.987]\n"
     ]
    }
   ],
   "source": [
    "def my_custom_sort(item):\n",
    "    if isinstance(item, str) and item.isalnum():\n",
    "        return (1, item)\n",
    "    if isinstance(item, str):\n",
    "        return (0, item)\n",
    "    if isinstance(item, int):\n",
    "        return (2, -item) # Only int to reverse order\n",
    "    if isinstance(item, float):\n",
    "        return (3, item)\n",
    "\n",
    "\n",
    "sorted_res = sorted(res, key=my_custom_sort)\n",
    "\n",
    "print(sorted_res)\n",
    "    "
   ]
  }
 ],
 "metadata": {
  "kernelspec": {
   "display_name": "venv_kri_vscode",
   "language": "python",
   "name": "python3"
  },
  "language_info": {
   "codemirror_mode": {
    "name": "ipython",
    "version": 3
   },
   "file_extension": ".py",
   "mimetype": "text/x-python",
   "name": "python",
   "nbconvert_exporter": "python",
   "pygments_lexer": "ipython3",
   "version": "3.10.12"
  }
 },
 "nbformat": 4,
 "nbformat_minor": 2
}

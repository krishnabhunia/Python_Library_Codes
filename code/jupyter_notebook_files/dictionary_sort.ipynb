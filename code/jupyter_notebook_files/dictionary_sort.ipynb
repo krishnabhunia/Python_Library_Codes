{
 "cells": [
  {
   "cell_type": "code",
   "execution_count": 7,
   "metadata": {},
   "outputs": [
    {
     "name": "stdout",
     "output_type": "stream",
     "text": [
      "{'seven': 7, 'five': 5, 'one': 1} <class 'dict'>\n",
      "('seven', 7) <class 'tuple'>\n",
      "('five', 5) <class 'tuple'>\n",
      "('one', 1) <class 'tuple'>\n"
     ]
    }
   ],
   "source": [
    "d = {\n",
    "    \"seven\":7,\n",
    "    \"five\":5,\n",
    "    \"one\":1\n",
    "}\n",
    "\n",
    "print(d, type(d))\n",
    "\n",
    "for i in d.items():\n",
    "    print(i, type(i))"
   ]
  },
  {
   "cell_type": "code",
   "execution_count": 10,
   "metadata": {},
   "outputs": [
    {
     "name": "stdout",
     "output_type": "stream",
     "text": [
      "OrderedDict([('five', 5), ('one', 1), ('seven', 7)])\n"
     ]
    }
   ],
   "source": [
    "from collections import OrderedDict\n",
    "\n",
    "do = OrderedDict(sorted(d.items()))\n",
    "print(do)"
   ]
  },
  {
   "cell_type": "code",
   "execution_count": 14,
   "metadata": {},
   "outputs": [
    {
     "name": "stdout",
     "output_type": "stream",
     "text": [
      "{'seven': 7, 'five': 5, 'one': 1}\n",
      "{'one': 1, 'five': 5, 'seven': 7}\n"
     ]
    }
   ],
   "source": [
    "print(d)\n",
    "\n",
    "dres = dict(sorted(d.items(), key=lambda x: x[1]))\n",
    "print(dres)"
   ]
  }
 ],
 "metadata": {
  "kernelspec": {
   "display_name": "venv_kri_vscode",
   "language": "python",
   "name": "python3"
  },
  "language_info": {
   "codemirror_mode": {
    "name": "ipython",
    "version": 3
   },
   "file_extension": ".py",
   "mimetype": "text/x-python",
   "name": "python",
   "nbconvert_exporter": "python",
   "pygments_lexer": "ipython3",
   "version": "3.10.12"
  }
 },
 "nbformat": 4,
 "nbformat_minor": 2
}
